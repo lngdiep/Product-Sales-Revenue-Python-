{
 "cells": [
  {
   "cell_type": "code",
   "execution_count": 18,
   "id": "ebaca88f",
   "metadata": {},
   "outputs": [],
   "source": [
    "import pandas as pd\n",
    "import numpy as np"
   ]
  },
  {
   "cell_type": "code",
   "execution_count": 19,
   "id": "d9b5140e",
   "metadata": {},
   "outputs": [
    {
     "name": "stdout",
     "output_type": "stream",
     "text": [
      "    product_id  old_price  new_price     updated_at\n",
      "0           64     270000     239000  9/10/18 16:37\n",
      "1      3954203      60000      64000  9/11/18 11:54\n",
      "2      3954203      60500      57500  9/17/18 22:59\n",
      "3      3954203      64000      60500   9/15/18 3:49\n",
      "4      3954203      68800      60000  9/10/18 16:32\n",
      "5      3998909      15500      16500   9/16/18 5:09\n",
      "6      3998909      17000      15500   9/13/18 6:43\n",
      "7      3998909      19000      17000  9/10/18 16:35\n",
      "8      4085861      53500      52000  9/17/18 22:59\n",
      "9      4085861      53500      67000   9/12/18 3:51\n",
      "10     4085861      58000      53500   9/17/18 3:35\n",
      "11     4085861      60000      53500   9/11/18 8:51\n",
      "12     4085861      62500      58000   9/15/18 3:51\n",
      "13     4085861      67000      62500   9/13/18 6:43\n",
      "     product_id     ordered_at  quantity_ordered\n",
      "0       3998909  9/18/18 17:51                 1\n",
      "1       3998909  9/18/18 12:52                 1\n",
      "2       3998909  9/18/18 11:33                 1\n",
      "3       3998909  9/18/18 18:47                 1\n",
      "4       3998909  9/18/18 17:36                 1\n",
      "..          ...            ...               ...\n",
      "170     4085861  9/13/18 23:29                 1\n",
      "171          64  9/11/18 19:32                 1\n",
      "172          64  9/14/18 20:10                 1\n",
      "173          64  9/12/18 16:00                 1\n",
      "174          64  9/12/18 13:23                 1\n",
      "\n",
      "[175 rows x 3 columns]\n"
     ]
    }
   ],
   "source": [
    "prices = pd.read_csv(\"prices.csv\")\n",
    "sales = pd.read_csv(\"sales.csv\")\n",
    "\n",
    "print(prices)\n",
    "print(sales)"
   ]
  },
  {
   "cell_type": "code",
   "execution_count": 20,
   "id": "31c5854d",
   "metadata": {},
   "outputs": [],
   "source": [
    "# convert datetime\n",
    "prices['updated_at'] = pd.to_datetime(prices['updated_at'])\n",
    "sales['ordered_at'] = pd.to_datetime(sales['ordered_at'])"
   ]
  },
  {
   "cell_type": "code",
   "execution_count": 21,
   "id": "5485f4a0",
   "metadata": {},
   "outputs": [
    {
     "name": "stdout",
     "output_type": "stream",
     "text": [
      "<bound method NDFrame.head of      product_id          ordered_at  quantity_ordered  old_price  new_price  \\\n",
      "0       3954203 2018-09-11 01:43:00                 1      68800      60000   \n",
      "1       4085861 2018-09-11 06:26:00                 1      60000      53500   \n",
      "2       4085861 2018-09-11 06:53:00                 1      60000      53500   \n",
      "3       4085861 2018-09-11 08:24:00                 1      60000      53500   \n",
      "4       4085861 2018-09-11 09:30:00                 1      60000      53500   \n",
      "..          ...                 ...               ...        ...        ...   \n",
      "170     4085861 2018-09-18 20:23:00                 1      53500      52000   \n",
      "171     4085861 2018-09-18 20:43:00                 1      53500      52000   \n",
      "172     4085861 2018-09-18 20:54:00                 1      53500      52000   \n",
      "173     3954203 2018-09-18 21:26:00                 1      60500      57500   \n",
      "174     3998909 2018-09-18 22:11:00                 1      15500      16500   \n",
      "\n",
      "             updated_at  \n",
      "0   2018-09-10 16:32:00  \n",
      "1   2018-09-11 08:51:00  \n",
      "2   2018-09-11 08:51:00  \n",
      "3   2018-09-11 08:51:00  \n",
      "4   2018-09-11 08:51:00  \n",
      "..                  ...  \n",
      "170 2018-09-17 22:59:00  \n",
      "171 2018-09-17 22:59:00  \n",
      "172 2018-09-17 22:59:00  \n",
      "173 2018-09-17 22:59:00  \n",
      "174 2018-09-16 05:09:00  \n",
      "\n",
      "[175 rows x 6 columns]>\n"
     ]
    }
   ],
   "source": [
    "prices.dropna()\n",
    "sales.dropna()\n",
    "\n",
    "# sort theo ngày\n",
    "prices = prices.sort_values(by='updated_at')\n",
    "sales = sales.sort_values(by='ordered_at')\n",
    "\n",
    "# merge 2 bảng\n",
    "pns = pd.merge_asof(sales, prices, by='product_id', left_on='ordered_at', right_on='updated_at', direction='nearest')\n",
    "pns.head"
   ]
  },
  {
   "cell_type": "code",
   "execution_count": 22,
   "id": "c31000e1",
   "metadata": {},
   "outputs": [
    {
     "data": {
      "text/plain": [
       "<bound method NDFrame.head of      product_id          ordered_at  quantity_ordered  old_price  new_price  \\\n",
       "0       3954203 2018-09-11 01:43:00                 1      68800      60000   \n",
       "1       4085861 2018-09-11 06:26:00                 1      60000      53500   \n",
       "2       4085861 2018-09-11 06:53:00                 1      60000      53500   \n",
       "3       4085861 2018-09-11 08:24:00                 1      60000      53500   \n",
       "4       4085861 2018-09-11 09:30:00                 1      60000      53500   \n",
       "..          ...                 ...               ...        ...        ...   \n",
       "170     4085861 2018-09-18 20:23:00                 1      53500      52000   \n",
       "171     4085861 2018-09-18 20:43:00                 1      53500      52000   \n",
       "172     4085861 2018-09-18 20:54:00                 1      53500      52000   \n",
       "173     3954203 2018-09-18 21:26:00                 1      60500      57500   \n",
       "174     3998909 2018-09-18 22:11:00                 1      15500      16500   \n",
       "\n",
       "             updated_at  real_price  \n",
       "0   2018-09-10 16:32:00       60000  \n",
       "1   2018-09-11 08:51:00       60000  \n",
       "2   2018-09-11 08:51:00       60000  \n",
       "3   2018-09-11 08:51:00       60000  \n",
       "4   2018-09-11 08:51:00       53500  \n",
       "..                  ...         ...  \n",
       "170 2018-09-17 22:59:00       52000  \n",
       "171 2018-09-17 22:59:00       52000  \n",
       "172 2018-09-17 22:59:00       52000  \n",
       "173 2018-09-17 22:59:00       57500  \n",
       "174 2018-09-16 05:09:00       16500  \n",
       "\n",
       "[175 rows x 7 columns]>"
      ]
     },
     "execution_count": 22,
     "metadata": {},
     "output_type": "execute_result"
    }
   ],
   "source": [
    "# compare ordered_at and \"nearest\" updated_at of each order to find the correct price\n",
    "#nếu ordered_at >= updated_at thì lấy new_price, otherwise lấy old_price cho cột real_price\n",
    "\n",
    "pns['real_price'] = np.where(pns['ordered_at'] >= pns['updated_at'],\n",
    "                                         pns['new_price'], pns['old_price'])\n",
    "pns.head"
   ]
  },
  {
   "cell_type": "code",
   "execution_count": 23,
   "id": "9511dc9d",
   "metadata": {},
   "outputs": [
    {
     "data": {
      "text/plain": [
       "product_id  real_price\n",
       "64          239000         956000\n",
       "3954203     57500           57500\n",
       "            60000          180000\n",
       "            64000          640000\n",
       "3998909     15500           15500\n",
       "            16500          231000\n",
       "            17000           34000\n",
       "4085861     52000         1040000\n",
       "            53500         2140000\n",
       "            58000         2204000\n",
       "            60000          180000\n",
       "            62500         1812500\n",
       "            67000          871000\n",
       "Name: revenue, dtype: int64"
      ]
     },
     "execution_count": 23,
     "metadata": {},
     "output_type": "execute_result"
    }
   ],
   "source": [
    "# tính revenue\n",
    "pns['revenue'] = pns['real_price'] * pns['quantity_ordered']\n",
    "\n",
    "# tổng revenue theo từng sản phẩm và từng mức giá\n",
    "revenue_by_product_and_price = pns.groupby(['product_id','real_price'])['revenue'].sum()\n",
    "revenue_by_product_and_price"
   ]
  }
 ],
 "metadata": {
  "kernelspec": {
   "display_name": "Python 3 (ipykernel)",
   "language": "python",
   "name": "python3"
  },
  "language_info": {
   "codemirror_mode": {
    "name": "ipython",
    "version": 3
   },
   "file_extension": ".py",
   "mimetype": "text/x-python",
   "name": "python",
   "nbconvert_exporter": "python",
   "pygments_lexer": "ipython3",
   "version": "3.9.12"
  }
 },
 "nbformat": 4,
 "nbformat_minor": 5
}
